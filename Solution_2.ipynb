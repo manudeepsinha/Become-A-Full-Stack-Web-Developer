{
  "nbformat": 4,
  "nbformat_minor": 0,
  "metadata": {
    "colab": {
      "name": "Untitled1.ipynb",
      "provenance": [],
      "authorship_tag": "ABX9TyNDqf1yuPtzYpSaEQKMv2Jd",
      "include_colab_link": true
    },
    "kernelspec": {
      "name": "python3",
      "display_name": "Python 3"
    },
    "language_info": {
      "name": "python"
    }
  },
  "cells": [
    {
      "cell_type": "markdown",
      "metadata": {
        "id": "view-in-github",
        "colab_type": "text"
      },
      "source": [
        "<a href=\"https://colab.research.google.com/github/manudeepsinha/Become-A-Full-Stack-Web-Developer/blob/master/Solution_2.ipynb\" target=\"_parent\"><img src=\"https://colab.research.google.com/assets/colab-badge.svg\" alt=\"Open In Colab\"/></a>"
      ]
    },
    {
      "cell_type": "markdown",
      "source": [
        "Question 1: Some of the orders are stored in another csv file named `bigkart_newsales`. Read the csv file, store it in a data frame and add it to the `bigkart_sales` data frame. Find the total sales value of the category 'Office Supplies' after combining the dataframes\n",
        "\n",
        "Question 2: There are some duplicate rows in the data frame. Drop these rows and calculate the total sales value of the category Office Supplies.\n",
        "\n",
        "Question 3: Find the most profitable category and sub category combination based on the net profit.\n",
        "\n",
        "Question 4: How many invalid order IDs are there in the data frame. An order id is of the form AZ-2011-Y where Y represents a whole number. A Order ID is said to be valid only if Y consists of 7 digits. Find the number of invalid order order IDs in the data frame.\n",
        "\n",
        "Question 5: Find the top 25 orders based on sales value and find the number of orders which belong to furniture category.\n",
        "\n",
        "Question 6: Among the orders with sales>250 and profit>50, find the product name of the fourth highest order based on sales value.\n",
        "\n",
        "Question 7: Remove the orders with negative profit by dropping the corresponding rows with negative `Profit`. Find the product that makes the lowest profit per Quantity in the Technology category."
      ],
      "metadata": {
        "id": "8scN7nC322nC"
      }
    },
    {
      "cell_type": "code",
      "source": [
        "import pandas as pd"
      ],
      "metadata": {
        "id": "BIj9B9i42t_d"
      },
      "execution_count": 36,
      "outputs": []
    },
    {
      "cell_type": "code",
      "source": [
        "#defining data frame for 2 csv files\n",
        "df = pd.concat(map(pd.read_csv,['bigkart_sales.csv', 'bigkart_newsales.csv']), ignore_index = True)\n",
        "#creating group-by for category and then selecting summation of Sales value\n",
        "category_grp = df.groupby(['Category'])\n",
        "\n",
        "category_grp.get_group('Office Supplies')['Sales'].sum()"
      ],
      "metadata": {
        "colab": {
          "base_uri": "https://localhost:8080/"
        },
        "id": "i8ZgfRqr2uCG",
        "outputId": "afd8ec5d-2755-4268-f430-13e6a956183e"
      },
      "execution_count": 47,
      "outputs": [
        {
          "output_type": "execute_result",
          "data": {
            "text/plain": [
              "7970"
            ]
          },
          "metadata": {},
          "execution_count": 47
        }
      ]
    },
    {
      "cell_type": "code",
      "source": [
        "#dropping the duplicates from the data frame\n",
        "unique_df = df.drop_duplicates()\n",
        "#selecting summation of Sales value for category office supplies after removing duplicates\n",
        "unique_df.loc[unique_df['Category'] == 'Office Supplies']['Sales'].sum()"
      ],
      "metadata": {
        "colab": {
          "base_uri": "https://localhost:8080/"
        },
        "id": "L6Ey2zT22uFV",
        "outputId": "068a97d0-5f5e-4b57-906f-d5e0692bb2ed"
      },
      "execution_count": 48,
      "outputs": [
        {
          "output_type": "execute_result",
          "data": {
            "text/plain": [
              "6964"
            ]
          },
          "metadata": {},
          "execution_count": 48
        }
      ]
    },
    {
      "cell_type": "code",
      "source": [
        "#most profitable category and sub-category combination\n",
        "#adding a net_profit column which is (Quantity * Sales) / Profit to calculate profit on 1 unit sold\n",
        "df['Net_Profit'] = (df['Quantity'] * df['Sales'] ) / df['Profit']\n",
        "print('Following are the category and sub-category combination when **Quantity, Sales and Profit** were referred and each sale Profit is calculated as Net_Profit: ')\n",
        "print(df.sort_values(by='Net_Profit', ascending = 0).head(1)[['Category','Sub-Category']])\n",
        "print('------------------------------------------')\n",
        "print('Following are the category and sub-category combination when only **Profit** was referred: ')\n",
        "print(df.sort_values(by='Profit', ascending = 0).head(1)[['Category','Sub-Category']])"
      ],
      "metadata": {
        "colab": {
          "base_uri": "https://localhost:8080/"
        },
        "id": "SBp7VBlQ2uId",
        "outputId": "0ecda16b-d037-4c0e-ee8c-41319a3de151"
      },
      "execution_count": 49,
      "outputs": [
        {
          "output_type": "stream",
          "name": "stdout",
          "text": [
            "Following are the category and sub-category combination when **Quantity, Sales and Profit** were referred and each sale Profit is calculated as Net_Profit: \n",
            "      Category Sub-Category\n",
            "41  Technology      Copiers\n",
            "------------------------------------------\n",
            "Following are the category and sub-category combination when only **Profit** was referred: \n",
            "      Category Sub-Category\n",
            "30  Technology       Phones\n"
          ]
        }
      ]
    },
    {
      "cell_type": "code",
      "source": [
        "#checks whether Order ID is valid or not by checking length of Order ID\n",
        "invalid_order_id = unique_df['Order ID'].apply(lambda x: True if len(x[8:]) == 7 else False).sum()\n",
        "print(f'There are a total of {invalid_order_id} invalid Order IDs.')"
      ],
      "metadata": {
        "colab": {
          "base_uri": "https://localhost:8080/"
        },
        "id": "KopiR71U2uLX",
        "outputId": "f701dc84-7905-41fb-f9db-bad46082892d"
      },
      "execution_count": 50,
      "outputs": [
        {
          "output_type": "stream",
          "name": "stdout",
          "text": [
            "There are a total of 54 invalid Order IDs.\n"
          ]
        }
      ]
    },
    {
      "cell_type": "code",
      "source": [
        "#top 25 orders based on sales value\n",
        "top_25_sales = unique_df.sort_values(by='Sales', ascending = 0).head(25)\n",
        "print(top_25_sales)\n",
        "print('------------------------------')\n",
        "top_25_furn_cat = (top_25_sales['Category'] == 'Furniture').sum()\n",
        "#number of orders which belong to furniture category\n",
        "print(f'Number of top-25 orders which belong to furniture category are: {top_25_furn_cat}')"
      ],
      "metadata": {
        "colab": {
          "base_uri": "https://localhost:8080/"
        },
        "id": "yJYzwk4E2uOZ",
        "outputId": "fe38d075-d224-4fc9-c7a5-cca2f747cb65"
      },
      "execution_count": 51,
      "outputs": [
        {
          "output_type": "stream",
          "name": "stdout",
          "text": [
            "           Order ID                         Product Name  Discount  Sales  \\\n",
            "30  AZ-2011-1410648         Nokia Smart Phone, Full Size       0.0   1908   \n",
            "58   AZ-2011-176674                Hoover Microwave, Red       0.1   1667   \n",
            "8   AZ-2011-1174243     Nokia Audio Dock, with Caller ID       0.0   1334   \n",
            "20  AZ-2011-1322840     Motorola Headset, with Caller ID       0.0    957   \n",
            "3   AZ-2011-1372644           Panasonic Printer, Durable       0.0    800   \n",
            "18  AZ-2011-1406494         Fellowes Lockers, Industrial       0.1    748   \n",
            "39  AZ-2011-1536006      Logitech Keyboard, Programmable       0.0    666   \n",
            "33  AZ-2011-1445262          Apple Smart Phone, Cordless       0.0    636   \n",
            "31   AZ-2011-144325        Bush Stackable Bookrack, Pine       0.0    630   \n",
            "14  AZ-2011-1260928        Eldon File Cart, Single Width       0.1    576   \n",
            "12  AZ-2011-1253407       Safco Stackable Bookrack, Pine       0.1    541   \n",
            "48  AZ-2011-1672552      Binney & Smith Sketch Pad, Blue       0.0    510   \n",
            "41  AZ-2011-1584049                   Brother Ink, Laser       0.0    442   \n",
            "52  AZ-2011-1722024               Cisco Audio Dock, VoIP       0.0    364   \n",
            "59  AZ-2011-1902971  Wilson Jones Binding Machine, Clear       0.0    339   \n",
            "17   AZ-2011-130330     Office Star Chairmat, Adjustable       0.1    307   \n",
            "2   AZ-2011-1087704        Belkin Flash Drive, Bluetooth       0.0    294   \n",
            "60  AZ-2011-1916360        Dania 3-Shelf Cabinet, Mobile       0.0    288   \n",
            "11  AZ-2011-1240916           Boston Canvas, Water Color       0.0    284   \n",
            "34   AZ-2011-145488         Rogers File Cart, Industrial       0.4    255   \n",
            "6   AZ-2011-1116129       Avery Binding Machine, Durable       0.0    252   \n",
            "42  AZ-2011-1584987          Tenex File Cart, Industrial       0.1    241   \n",
            "38  AZ-2011-1499597          Boston Markers, Fluorescent       0.0    193   \n",
            "46  AZ-2011-1655349           Fiskars Trimmer, Easy Grip       0.0    176   \n",
            "43  AZ-2011-1589827     Novimex Steel Folding Chair, Red       0.6    164   \n",
            "\n",
            "    Profit  Quantity         Category Sub-Category  \n",
            "30     820         3       Technology       Phones  \n",
            "58     185         6  Office Supplies   Appliances  \n",
            "8      200         8       Technology       Phones  \n",
            "20     316        12       Technology       Phones  \n",
            "3      168         3       Technology     Machines  \n",
            "18     283         4  Office Supplies      Storage  \n",
            "39      66         9       Technology  Accessories  \n",
            "33     140         1       Technology       Phones  \n",
            "31     132         5        Furniture    Bookcases  \n",
            "14      51         5  Office Supplies      Storage  \n",
            "12     156         4        Furniture    Bookcases  \n",
            "48     132        11  Office Supplies          Art  \n",
            "41       0         3       Technology      Copiers  \n",
            "52     142         2       Technology       Phones  \n",
            "59     102         7  Office Supplies      Binders  \n",
            "17      99         5        Furniture       Chairs  \n",
            "2      109         7       Technology  Accessories  \n",
            "60      20         2        Furniture    Bookcases  \n",
            "11      43         5  Office Supplies          Art  \n",
            "34     -98         3  Office Supplies      Storage  \n",
            "6       15         5  Office Supplies      Binders  \n",
            "42      24         2  Office Supplies      Storage  \n",
            "38      29         7  Office Supplies          Art  \n",
            "46      65         4  Office Supplies     Supplies  \n",
            "43     -70         5        Furniture       Chairs  \n",
            "------------------------------\n",
            "Number of top-25 orders which belong to furniture category are: 5\n"
          ]
        }
      ]
    },
    {
      "cell_type": "code",
      "source": [
        "#product name of the fourth highest order based on sales value having sales > 250 and profit > 250.\n",
        "fourth_highest_order = 4\n",
        "top_prod_name = unique_df.loc[(unique_df['Sales']  > 250) & (unique_df['Profit']  > 250)].sort_values(by='Sales', ascending = 0).head(4)['Product Name']\n",
        "if (len(top_prod_name) != 0):\n",
        "  while len(top_prod_name) != fourth_highest_order:\n",
        "    fourth_highest_order -= 1\n",
        "  print(top_prod_name.iloc[fourth_highest_order-1])\n",
        "else:\n",
        "  print('There are no products that have Sales > 250 and Profit > 250')"
      ],
      "metadata": {
        "colab": {
          "base_uri": "https://localhost:8080/"
        },
        "id": "Hs_1mr5C2uRS",
        "outputId": "3e40fc74-ff0d-41a0-ee97-6825a3bc688e"
      },
      "execution_count": 52,
      "outputs": [
        {
          "output_type": "stream",
          "name": "stdout",
          "text": [
            "Fellowes Lockers, Industrial\n"
          ]
        }
      ]
    },
    {
      "cell_type": "code",
      "source": [
        "#product that makes the lowest profit per Quantity in the Technology category\n",
        "#dropping all the orders with profit in negative\n",
        "unique_and_positive_profit_df = unique_df.drop(unique_df[unique_df['Profit'] < 0].index)\n",
        "#new column for profit per quantity\n",
        "unique_and_positive_profit_df['Profit_per_quantity'] = unique_and_positive_profit_df['Quantity']  / unique_and_positive_profit_df['Profit']\n",
        "#adding the condition of category = Technology\n",
        "unique_and_positive_profit_df = unique_and_positive_profit_df.loc[unique_and_positive_profit_df['Category'] == 'Technology']\n",
        "print('Lowest profit per quantity in the Technology category: ')\n",
        "unique_and_positive_profit_df.sort_values(by=['Profit_per_quantity']).head(1)\n"
      ],
      "metadata": {
        "colab": {
          "base_uri": "https://localhost:8080/",
          "height": 98
        },
        "id": "qx_bPYmj2uUB",
        "outputId": "898df056-0ab4-4d9d-9ace-085905b3f06f"
      },
      "execution_count": 73,
      "outputs": [
        {
          "output_type": "stream",
          "name": "stdout",
          "text": [
            "Lowest profit per quantity in the Technology category: \n"
          ]
        },
        {
          "output_type": "execute_result",
          "data": {
            "text/plain": [
              "           Order ID                  Product Name  Discount  Sales  Profit  \\\n",
              "30  AZ-2011-1410648  Nokia Smart Phone, Full Size       0.0   1908     820   \n",
              "\n",
              "    Quantity    Category Sub-Category  Profit_per_quantity  \n",
              "30         3  Technology       Phones             0.003659  "
            ],
            "text/html": [
              "\n",
              "  <div id=\"df-36656129-c354-41cd-a9b0-e095c1993708\">\n",
              "    <div class=\"colab-df-container\">\n",
              "      <div>\n",
              "<style scoped>\n",
              "    .dataframe tbody tr th:only-of-type {\n",
              "        vertical-align: middle;\n",
              "    }\n",
              "\n",
              "    .dataframe tbody tr th {\n",
              "        vertical-align: top;\n",
              "    }\n",
              "\n",
              "    .dataframe thead th {\n",
              "        text-align: right;\n",
              "    }\n",
              "</style>\n",
              "<table border=\"1\" class=\"dataframe\">\n",
              "  <thead>\n",
              "    <tr style=\"text-align: right;\">\n",
              "      <th></th>\n",
              "      <th>Order ID</th>\n",
              "      <th>Product Name</th>\n",
              "      <th>Discount</th>\n",
              "      <th>Sales</th>\n",
              "      <th>Profit</th>\n",
              "      <th>Quantity</th>\n",
              "      <th>Category</th>\n",
              "      <th>Sub-Category</th>\n",
              "      <th>Profit_per_quantity</th>\n",
              "    </tr>\n",
              "  </thead>\n",
              "  <tbody>\n",
              "    <tr>\n",
              "      <th>30</th>\n",
              "      <td>AZ-2011-1410648</td>\n",
              "      <td>Nokia Smart Phone, Full Size</td>\n",
              "      <td>0.0</td>\n",
              "      <td>1908</td>\n",
              "      <td>820</td>\n",
              "      <td>3</td>\n",
              "      <td>Technology</td>\n",
              "      <td>Phones</td>\n",
              "      <td>0.003659</td>\n",
              "    </tr>\n",
              "  </tbody>\n",
              "</table>\n",
              "</div>\n",
              "      <button class=\"colab-df-convert\" onclick=\"convertToInteractive('df-36656129-c354-41cd-a9b0-e095c1993708')\"\n",
              "              title=\"Convert this dataframe to an interactive table.\"\n",
              "              style=\"display:none;\">\n",
              "        \n",
              "  <svg xmlns=\"http://www.w3.org/2000/svg\" height=\"24px\"viewBox=\"0 0 24 24\"\n",
              "       width=\"24px\">\n",
              "    <path d=\"M0 0h24v24H0V0z\" fill=\"none\"/>\n",
              "    <path d=\"M18.56 5.44l.94 2.06.94-2.06 2.06-.94-2.06-.94-.94-2.06-.94 2.06-2.06.94zm-11 1L8.5 8.5l.94-2.06 2.06-.94-2.06-.94L8.5 2.5l-.94 2.06-2.06.94zm10 10l.94 2.06.94-2.06 2.06-.94-2.06-.94-.94-2.06-.94 2.06-2.06.94z\"/><path d=\"M17.41 7.96l-1.37-1.37c-.4-.4-.92-.59-1.43-.59-.52 0-1.04.2-1.43.59L10.3 9.45l-7.72 7.72c-.78.78-.78 2.05 0 2.83L4 21.41c.39.39.9.59 1.41.59.51 0 1.02-.2 1.41-.59l7.78-7.78 2.81-2.81c.8-.78.8-2.07 0-2.86zM5.41 20L4 18.59l7.72-7.72 1.47 1.35L5.41 20z\"/>\n",
              "  </svg>\n",
              "      </button>\n",
              "      \n",
              "  <style>\n",
              "    .colab-df-container {\n",
              "      display:flex;\n",
              "      flex-wrap:wrap;\n",
              "      gap: 12px;\n",
              "    }\n",
              "\n",
              "    .colab-df-convert {\n",
              "      background-color: #E8F0FE;\n",
              "      border: none;\n",
              "      border-radius: 50%;\n",
              "      cursor: pointer;\n",
              "      display: none;\n",
              "      fill: #1967D2;\n",
              "      height: 32px;\n",
              "      padding: 0 0 0 0;\n",
              "      width: 32px;\n",
              "    }\n",
              "\n",
              "    .colab-df-convert:hover {\n",
              "      background-color: #E2EBFA;\n",
              "      box-shadow: 0px 1px 2px rgba(60, 64, 67, 0.3), 0px 1px 3px 1px rgba(60, 64, 67, 0.15);\n",
              "      fill: #174EA6;\n",
              "    }\n",
              "\n",
              "    [theme=dark] .colab-df-convert {\n",
              "      background-color: #3B4455;\n",
              "      fill: #D2E3FC;\n",
              "    }\n",
              "\n",
              "    [theme=dark] .colab-df-convert:hover {\n",
              "      background-color: #434B5C;\n",
              "      box-shadow: 0px 1px 3px 1px rgba(0, 0, 0, 0.15);\n",
              "      filter: drop-shadow(0px 1px 2px rgba(0, 0, 0, 0.3));\n",
              "      fill: #FFFFFF;\n",
              "    }\n",
              "  </style>\n",
              "\n",
              "      <script>\n",
              "        const buttonEl =\n",
              "          document.querySelector('#df-36656129-c354-41cd-a9b0-e095c1993708 button.colab-df-convert');\n",
              "        buttonEl.style.display =\n",
              "          google.colab.kernel.accessAllowed ? 'block' : 'none';\n",
              "\n",
              "        async function convertToInteractive(key) {\n",
              "          const element = document.querySelector('#df-36656129-c354-41cd-a9b0-e095c1993708');\n",
              "          const dataTable =\n",
              "            await google.colab.kernel.invokeFunction('convertToInteractive',\n",
              "                                                     [key], {});\n",
              "          if (!dataTable) return;\n",
              "\n",
              "          const docLinkHtml = 'Like what you see? Visit the ' +\n",
              "            '<a target=\"_blank\" href=https://colab.research.google.com/notebooks/data_table.ipynb>data table notebook</a>'\n",
              "            + ' to learn more about interactive tables.';\n",
              "          element.innerHTML = '';\n",
              "          dataTable['output_type'] = 'display_data';\n",
              "          await google.colab.output.renderOutput(dataTable, element);\n",
              "          const docLink = document.createElement('div');\n",
              "          docLink.innerHTML = docLinkHtml;\n",
              "          element.appendChild(docLink);\n",
              "        }\n",
              "      </script>\n",
              "    </div>\n",
              "  </div>\n",
              "  "
            ]
          },
          "metadata": {},
          "execution_count": 73
        }
      ]
    },
    {
      "cell_type": "code",
      "source": [
        ""
      ],
      "metadata": {
        "id": "lnIxjzsp2uaJ"
      },
      "execution_count": null,
      "outputs": []
    }
  ]
}